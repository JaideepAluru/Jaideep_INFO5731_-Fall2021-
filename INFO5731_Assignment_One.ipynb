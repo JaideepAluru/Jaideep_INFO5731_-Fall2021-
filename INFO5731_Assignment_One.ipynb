{
 "cells": [
  {
   "cell_type": "markdown",
   "metadata": {
    "colab_type": "text",
    "id": "view-in-github"
   },
   "source": [
    "<a href=\"https://colab.research.google.com/github/unt-iialab/INFO5731_Spring2020/blob/master/Assignments/INFO5731_Assignment_One.ipynb\" target=\"_parent\"><img src=\"https://colab.research.google.com/assets/colab-badge.svg\" alt=\"Open In Colab\"/></a>"
   ]
  },
  {
   "cell_type": "markdown",
   "metadata": {
    "colab_type": "text",
    "id": "Ryk8D1Q4Wsrp"
   },
   "source": [
    "# **INFO5731 Assignment One**"
   ]
  },
  {
   "cell_type": "markdown",
   "metadata": {
    "colab_type": "text",
    "id": "90_NR8c5XGWc"
   },
   "source": [
    "# Question 1\n",
    "\n",
    "(20 points). Write a Python program to generate 12 random numbers between 1 and 100. Sort the list of numbers in ascending order and print it out. Sort the list of numbers in descending order and print it out. Calculate the average for the group and print it out."
   ]
  },
  {
   "cell_type": "code",
   "execution_count": 12,
   "metadata": {
    "colab": {},
    "colab_type": "code",
    "id": "5QX6bJjGWXY9"
   },
   "outputs": [
    {
     "name": "stdout",
     "output_type": "stream",
     "text": [
      "Random List before sorting :-  [37, 34, 16, 52, 100, 96, 21, 50, 94, 49, 56, 38]\n",
      "Random List in ascending order :-  [16, 21, 34, 37, 38, 49, 50, 52, 56, 94, 96, 100]\n",
      "Random List in descending order :-  [100, 96, 94, 56, 52, 50, 49, 38, 37, 34, 21, 16]\n",
      "Average of the group is :-  53.583333333333336\n"
     ]
    }
   ],
   "source": [
    "# Your code here\n",
    "import random\n",
    "jai = []\n",
    "deep = 0\n",
    "for i in range(1,13):\n",
    "    jai.append(random.randrange(1,101))\n",
    "print(\"Random List before sorting :- \",jai)\n",
    "jai.sort()\n",
    "print(\"Random List in ascending order :- \",jai)\n",
    "jai.sort(reverse=True)\n",
    "print(\"Random List in descending order :- \",jai)\n",
    "deep = sum(jai)/len(jai)\n",
    "print(\"Average of the group is :- \",deep)\n",
    "\n"
   ]
  },
  {
   "cell_type": "markdown",
   "metadata": {
    "colab_type": "text",
    "id": "1F_PZdH9Sh49"
   },
   "source": [
    "# Question 2\n",
    "(25 points). Write a program that will do the following string formatting tasks:\n",
    "\n",
    "(1) Ask the user to enter two sentences.\n",
    "\n",
    "(2) Make each sentence into a list. Each element in the list should correspond to a word in the sentence. For example, if the sentence is \"Alas! Am I alive? This is my first python program\", the program should print out ['Alas, '!', 'Am', 'I', 'alive, '?', 'This', 'is', 'my', 'first', 'python', 'program'].\n",
    "\n",
    "(3) Compare the two sentences. Print out a list of words that occur in both sentences.\n",
    "\n",
    "(4) Remove any punctuation from the sentence and print it back out. It should remove at least the following characters, but it can remove more: period(“.”), comma (“,”), semicolon (“;”), and colon (“:”)\n",
    "\n",
    "(5) Count the number of vowels in the sentences. Print out each vowel and the number of times it appears in the sentences, such as: a:2, e:1, i:0, etc"
   ]
  },
  {
   "cell_type": "code",
   "execution_count": 18,
   "metadata": {
    "colab": {},
    "colab_type": "code",
    "id": "Y0oOSlsOS0cq"
   },
   "outputs": [
    {
     "name": "stdout",
     "output_type": "stream",
     "text": [
      "Enter sentence number 1 Hi, this is good!\n",
      "Enter sentence number 2 Hi, this is ok\n",
      "Sentence 1 converted into list ['Hi', ',', 'this', 'is', 'good', '!']\n",
      "Sentence 2 converted into list ['Hi', ',', 'this', 'is', 'ok']\n",
      "Common Elements in both the list :-  ['Hi', ',', 'this', 'is']\n",
      "String 1 after punctuations :-  Hi this is good\n",
      "String 2 after punctuations :-  Hi this is ok\n",
      "Vowels in sentence 1 :-  {'a': 0, 'e': 0, 'i': 3, 'o': 2, 'u': 0}\n",
      "Vowels in sentence 2 :-  {'a': 0, 'e': 0, 'i': 3, 'o': 1, 'u': 0}\n"
     ]
    }
   ],
   "source": [
    "# Your code here\n",
    "import re\n",
    "def split_sentence(inp):\n",
    "    res=re.compile(r'\\w+|[^\\w\\s]')\n",
    "    return res.findall(inp)\n",
    "\n",
    "def rem_punctuations(st):\n",
    "    p = '''!()-[]{};:'\"\\,<>./?@#$%^&*_~'''\n",
    "    n_p = \"\"\n",
    "    for j in st:\n",
    "        if j not in p:\n",
    "            n_p += j\n",
    "    return n_p\n",
    "def vowel_coun(ll):\n",
    "    cnt = {}\n",
    "    for z in \"aeiou\":\n",
    "        ct = ll.count(z)\n",
    "        cnt[z]=ct\n",
    "    return cnt\n",
    "# Task Number :- 1\n",
    "sen1 = input(\"Enter sentence number 1 \")\n",
    "sen2 = input(\"Enter sentence number 2 \")\n",
    "# Task Number :- 2\n",
    "a = split_sentence(sen1)\n",
    "b = split_sentence(sen2)\n",
    "print(\"Sentence 1 converted into list\",a)\n",
    "print(\"Sentence 2 converted into list\",b)\n",
    "# Task Number :- 3\n",
    "lst = []\n",
    "for i in a:\n",
    "    if i in b:\n",
    "        lst.append(i)\n",
    "print(\"Common Elements in both the list :- \",lst)\n",
    "# Task Number :- 4\n",
    "print(\"String 1 after punctuations :- \",rem_punctuations(sen1))\n",
    "print(\"String 2 after punctuations :- \",rem_punctuations(sen2))\n",
    "# Task Number :- 5\n",
    "l1 = sen1.lower()\n",
    "l2 = sen2.lower()\n",
    "print(\"Vowels in sentence 1 :- \",vowel_coun(l1))\n",
    "print(\"Vowels in sentence 2 :- \",vowel_coun(l2))"
   ]
  },
  {
   "cell_type": "markdown",
   "metadata": {
    "colab_type": "text",
    "id": "CmFoI4jDS9nx"
   },
   "source": [
    "# Question 3 \n",
    "\n",
    "(15 points). The formula that describes the volume V of a sphere with radius r is the following:\n",
    "\n",
    "$ V=\\frac{4}{3}\\ast\\ \\pi\\ast\\ r^3 $\n",
    "\n",
    "Write a program to calculate the value of V when r is in the range of 1–10. Output the result in the following format:\n",
    "\n",
    "\tr\tV\n",
    "\t1\t…\n",
    "\t2\t…\n",
    "\t3\t…\n"
   ]
  },
  {
   "cell_type": "code",
   "execution_count": 22,
   "metadata": {
    "colab": {},
    "colab_type": "code",
    "id": "pEyqeioAT95b"
   },
   "outputs": [
    {
     "name": "stdout",
     "output_type": "stream",
     "text": [
      "r    V\n",
      "1    4.1866666666666665\n",
      "2    33.49333333333333\n",
      "3    113.03999999999999\n",
      "4    267.94666666666666\n",
      "5    523.3333333333334\n",
      "6    904.3199999999999\n",
      "7    1436.0266666666666\n",
      "8    2143.5733333333333\n",
      "9    3052.08\n"
     ]
    }
   ],
   "source": [
    "# Your code here\n",
    "V = 0\n",
    "pi = 3.14\n",
    "print(\"r    V\")\n",
    "for r in range(1,10):\n",
    "    V = (4/3)*pi*(r)**3\n",
    "    print(\"{0}    {1}\".format(r,V))\n"
   ]
  },
  {
   "cell_type": "markdown",
   "metadata": {
    "colab_type": "text",
    "id": "z3tBE7E-Xn5X"
   },
   "source": [
    "# Question 4\n",
    "\n",
    "(40 points). In the field of Data Science, data is often formatted as a comma-delimited (CSV) file, where each line in a file corresponds to a field's value. Refer to Chapter 9 (p. 106) for more information on comma-delimited files. To answer this question, you will need to download the file [Assignment1_denton_housing.csv](https://raw.githubusercontent.com/unt-iialab/info5731-spring2022/main/assignments/Assignment1_denton_housing.csv) included with this assignment. The file [Assignment1_denton_housing.csv](https://raw.githubusercontent.com/unt-iialab/info5731-spring2022/main/assignments/Assignment1_denton_housing.csv) contains statistics about housing in the city of Denton from 2008 to 2014. Write a program to implement the following questions.\n",
    "\n",
    "(1) (10 pts) Calculate the difference in the number of Occupied Housing Units from year to year and print it. The difference must be calculated for the consecutive years such as 2008-2009, 2009-2010 etc. Finally, print the values in the ascending order.\n",
    "\n",
    "(2) (10 pts) For all the years, calculate the percentage of housing units which are vacant an occupied. Print the results in the following format:\n",
    "\n",
    "Year Vacant Housing Units Occupied Housing Units\n",
    "\n",
    "    2008  30%   70%                          \n",
    "\t2009 ----- -----\n",
    "\t2010 ----- -----\n",
    "    2011 ----- -----\n",
    "\t2012 ----- -----\n",
    "    2013 ----- -----\n",
    "\t2014 ----- -----\n",
    "  \n",
    "  \n",
    "\n",
    "(3) (10 pts) Calculate and print the valued and years in which the highest number of housing units were vacant and occupied. Print the results in the following format:  \n",
    "\n",
    "                              Year\tValue\n",
    "\tVacant Housing Units\t  -----   -----\n",
    "\tOccupied Housing Units\t-----   -----\n",
    "\n",
    "(4) (10 pts) Calculate the harmonic mean of the total housing units and print it out. You can find the information about harmonic mean here: https://ncalculators.com/statistics/harmonic-mean-calculator.htm"
   ]
  },
  {
   "cell_type": "code",
   "execution_count": 23,
   "metadata": {
    "colab": {},
    "colab_type": "code",
    "id": "lqGYuHBhcsRH"
   },
   "outputs": [],
   "source": [
    "import pandas as pd"
   ]
  },
  {
   "cell_type": "code",
   "execution_count": 27,
   "metadata": {},
   "outputs": [
    {
     "data": {
      "text/plain": [
       "17    -795.0\n",
       "11    -303.0\n",
       "8     1404.0\n",
       "5     1565.0\n",
       "2     2622.0\n",
       "14    5091.0\n",
       "20       NaN\n",
       "Name: value, dtype: float64"
      ]
     },
     "execution_count": 27,
     "metadata": {},
     "output_type": "execute_result"
    }
   ],
   "source": [
    "#Task 1\n",
    "\n",
    "df = pd.read_csv(\"https://raw.githubusercontent.com/unt-iialab/info5731-spring2022/main/assignments/Assignment1_denton_housing.csv\")\n",
    "diff_consec_yrs = df[df[\"title_field\"] == \"Occupied Housing Units\"].sort_values(by=[\"year\"])\n",
    "diff_consec_yrs.value.diff().sort_values()\n"
   ]
  },
  {
   "cell_type": "code",
   "execution_count": 28,
   "metadata": {},
   "outputs": [
    {
     "data": {
      "text/html": [
       "<div>\n",
       "<style scoped>\n",
       "    .dataframe tbody tr th:only-of-type {\n",
       "        vertical-align: middle;\n",
       "    }\n",
       "\n",
       "    .dataframe tbody tr th {\n",
       "        vertical-align: top;\n",
       "    }\n",
       "\n",
       "    .dataframe thead th {\n",
       "        text-align: right;\n",
       "    }\n",
       "</style>\n",
       "<table border=\"1\" class=\"dataframe\">\n",
       "  <thead>\n",
       "    <tr style=\"text-align: right;\">\n",
       "      <th></th>\n",
       "      <th>Year</th>\n",
       "      <th>Vacant Housing Units</th>\n",
       "      <th>Occupied Housing Units</th>\n",
       "    </tr>\n",
       "  </thead>\n",
       "  <tbody>\n",
       "    <tr>\n",
       "      <th>0</th>\n",
       "      <td>2008</td>\n",
       "      <td>10.88265281351653 %</td>\n",
       "      <td>89.11734718648347 %</td>\n",
       "    </tr>\n",
       "    <tr>\n",
       "      <th>1</th>\n",
       "      <td>2009</td>\n",
       "      <td>9.07111572444872 %</td>\n",
       "      <td>90.92888427555128 %</td>\n",
       "    </tr>\n",
       "    <tr>\n",
       "      <th>2</th>\n",
       "      <td>2010</td>\n",
       "      <td>8.142556337081672 %</td>\n",
       "      <td>91.85744366291833 %</td>\n",
       "    </tr>\n",
       "    <tr>\n",
       "      <th>3</th>\n",
       "      <td>2011</td>\n",
       "      <td>9.379522229890688 %</td>\n",
       "      <td>90.6204777701093 %</td>\n",
       "    </tr>\n",
       "    <tr>\n",
       "      <th>4</th>\n",
       "      <td>2012</td>\n",
       "      <td>6.677600230491346 %</td>\n",
       "      <td>93.32239976950866 %</td>\n",
       "    </tr>\n",
       "    <tr>\n",
       "      <th>5</th>\n",
       "      <td>2013</td>\n",
       "      <td>8.801787504176412 %</td>\n",
       "      <td>91.19821249582358 %</td>\n",
       "    </tr>\n",
       "    <tr>\n",
       "      <th>6</th>\n",
       "      <td>2014</td>\n",
       "      <td>5.730110570363885 %</td>\n",
       "      <td>94.26988942963611 %</td>\n",
       "    </tr>\n",
       "  </tbody>\n",
       "</table>\n",
       "</div>"
      ],
      "text/plain": [
       "   Year Vacant Housing Units Occupied Housing Units\n",
       "0  2008  10.88265281351653 %    89.11734718648347 %\n",
       "1  2009   9.07111572444872 %    90.92888427555128 %\n",
       "2  2010  8.142556337081672 %    91.85744366291833 %\n",
       "3  2011  9.379522229890688 %     90.6204777701093 %\n",
       "4  2012  6.677600230491346 %    93.32239976950866 %\n",
       "5  2013  8.801787504176412 %    91.19821249582358 %\n",
       "6  2014  5.730110570363885 %    94.26988942963611 %"
      ]
     },
     "execution_count": 28,
     "metadata": {},
     "output_type": "execute_result"
    }
   ],
   "source": [
    "#Task 2\n",
    "\n",
    "lst_vac = df[df['title_field'] == 'Vacant Housing Units'].sort_values(by=['year'])['value'].values.tolist()\n",
    "lst_occ = df[df['title_field'] == 'Occupied Housing Units'].sort_values(by=['year'])['value'].values.tolist()\n",
    "lst_tot = df[df['title_field'] == 'Total Housing Units'].sort_values(by=['year'])['value'].values.tolist()\n",
    "yr = df[df['title_field'] == 'Total Housing Units'].sort_values(by=['year'])['year'].values.tolist()\n",
    "Vac = [str((vac/tot)*100)+' %' for vac,tot in zip(lst_vac,lst_tot)]\n",
    "Occ = [str((occu/tot)*100)+' %' for occu, tot in zip(lst_occ, lst_tot)]\n",
    "fi = pd.DataFrame(list(zip(yr,Vac, Occ)), columns =['Year','Vacant Housing Units', 'Occupied Housing Units'])\n",
    "fi"
   ]
  },
  {
   "cell_type": "code",
   "execution_count": 36,
   "metadata": {},
   "outputs": [
    {
     "data": {
      "text/plain": [
       "[4483, 3583, 3635, 4213, 3013, 4215, 2814]"
      ]
     },
     "execution_count": 36,
     "metadata": {},
     "output_type": "execute_result"
    }
   ],
   "source": [
    "#Task 3\n",
    "\n",
    "lst_vac = df[df['title_field'] == 'Vacant Housing Units'].sort_values(by=['year'])['value'].values.tolist()\n",
    "lst_vac"
   ]
  },
  {
   "cell_type": "code",
   "execution_count": 37,
   "metadata": {},
   "outputs": [
    {
     "name": "stdout",
     "output_type": "stream",
     "text": [
      "               title_field  year  value\n",
      "2   Occupied Housing Units  2014  46295\n",
      "19    Vacant Housing Units  2008   4483\n"
     ]
    }
   ],
   "source": [
    "#Task 4\n",
    "\n",
    "df_occ = df[df[\"title_field\"] == \"Occupied Housing Units\"]\n",
    "df_vac = df[df['title_field'] == 'Vacant Housing Units']\n",
    "high_df = pd.concat([df_occ[df_occ['value'] == df_occ['value'].max()],df_vac[df_vac['value'] == df_vac['value'].max()]])\n",
    "print(high_df[['title_field','year','value']])"
   ]
  },
  {
   "cell_type": "code",
   "execution_count": 38,
   "metadata": {},
   "outputs": [
    {
     "name": "stdout",
     "output_type": "stream",
     "text": [
      "Harmonic mean of total housing units is 44398.28543969185\n"
     ]
    }
   ],
   "source": [
    "#Task 5\n",
    "\n",
    "from scipy import stats\n",
    "print('Harmonic mean of total housing units is {0}'.format(stats.hmean(lst_tot)))"
   ]
  },
  {
   "cell_type": "code",
   "execution_count": null,
   "metadata": {},
   "outputs": [],
   "source": []
  }
 ],
 "metadata": {
  "colab": {
   "authorship_tag": "ABX9TyOAjsNCkNulTpzgRQbHdy3f",
   "collapsed_sections": [],
   "include_colab_link": true,
   "name": "INFO5731_Assignment_One.ipynb",
   "provenance": []
  },
  "kernelspec": {
   "display_name": "Python 3 (ipykernel)",
   "language": "python",
   "name": "python3"
  },
  "language_info": {
   "codemirror_mode": {
    "name": "ipython",
    "version": 3
   },
   "file_extension": ".py",
   "mimetype": "text/x-python",
   "name": "python",
   "nbconvert_exporter": "python",
   "pygments_lexer": "ipython3",
   "version": "3.9.7"
  }
 },
 "nbformat": 4,
 "nbformat_minor": 1
}
